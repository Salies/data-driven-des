{
 "cells": [
  {
   "attachments": {},
   "cell_type": "markdown",
   "metadata": {},
   "source": [
    "# DMD: estudos iniciais"
   ]
  },
  {
   "cell_type": "code",
   "execution_count": 1,
   "metadata": {},
   "outputs": [],
   "source": [
    "import numpy as np\n",
    "import matplotlib.pyplot as plt\n",
    "from scipy import io"
   ]
  },
  {
   "cell_type": "code",
   "execution_count": 6,
   "metadata": {},
   "outputs": [],
   "source": [
    "M = io.loadmat('./input/VORTALL.mat')['VORTALL']"
   ]
  },
  {
   "cell_type": "code",
   "execution_count": 7,
   "metadata": {},
   "outputs": [
    {
     "data": {
      "text/plain": [
       "(89351, 151)"
      ]
     },
     "execution_count": 7,
     "metadata": {},
     "output_type": "execute_result"
    }
   ],
   "source": [
    "M.shape"
   ]
  },
  {
   "cell_type": "code",
   "execution_count": null,
   "metadata": {},
   "outputs": [],
   "source": [
    "# Algoritmo DMD\n",
    "def DMD(X, X_shifted, r):\n",
    "    # Passo 1: computar a SVD de X\n",
    "    U, S, Vt = np.linalg.svd(X, full_matrices=False)\n",
    "    # Passo 2: truncar as matrizes para os r primeiros elementos\n",
    "    # r é o posto exato ao aproximado da matriz X\n",
    "    # Pode ser calculado com um algortimo (ex.: Gavish e Donoho) a partir de dados ruidosos\n",
    "    # Não é o caso deste exemplo, onde é dado um posto (não sei se exato ou aproximado)\n",
    "    Us = U[:, :r]\n",
    "    Ss = np.diag(S[:r])\n",
    "    Vts = Vt[:r, :]\n",
    "    # computar a matriz Atilde\n",
    "    # A matriz Atilde é a matriz aproximada do que seria a matriz A, resultante da pseudo-inversa de X\n",
    "    # Contudo, o POD propõe esta aproximação feita através da projeção da matriz a na base de U, visto\n",
    "    # que só interessam os r primeiros autovalores e autovetores de A\n",
    "    Atilde = Us.conj().T @ X @ Vts @ np.linalg.inv(Ss)\n",
    "    # Passo 3: computar a decomposição espectral de Atilde\n",
    "    Q, Lambda = np.linalg.eig(Atilde)\n",
    "    "
   ]
  },
  {
   "attachments": {},
   "cell_type": "markdown",
   "metadata": {},
   "source": [
    "Obs.: implementação e testes ainda muito iniciais. Preciso mergulhar nos conceitos de POD para compreender melhor o funcionamento do algoritmo, mesmo que eu já conheça a maior parte dos conceitos de álgebra linear por trás dele."
   ]
  },
  {
   "cell_type": "code",
   "execution_count": null,
   "metadata": {},
   "outputs": [],
   "source": [
    "# TODO s\n",
    "# - biblioteca SINDy (facilitar uso e extensões)\n",
    "# - dúvida: qual a disposição dos dados no SINDy em um caso real\n",
    "# (a partir de medidas, o que vai no X e o que seira dX, visto que eu desconheço a dinâmica?)\n",
    "# - implementar DMD\n",
    "# - implementar aproximação funcional com LSTM"
   ]
  }
 ],
 "metadata": {
  "kernelspec": {
   "display_name": "base",
   "language": "python",
   "name": "python3"
  },
  "language_info": {
   "codemirror_mode": {
    "name": "ipython",
    "version": 3
   },
   "file_extension": ".py",
   "mimetype": "text/x-python",
   "name": "python",
   "nbconvert_exporter": "python",
   "pygments_lexer": "ipython3",
   "version": "3.10.10"
  },
  "orig_nbformat": 4
 },
 "nbformat": 4,
 "nbformat_minor": 2
}
