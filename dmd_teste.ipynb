{
 "cells": [
  {
   "cell_type": "code",
   "execution_count": 15,
   "metadata": {},
   "outputs": [],
   "source": [
    "import numpy as np\n",
    "import matplotlib.pyplot as plt\n",
    "from pydmd import DMD\n",
    "from deeptime.decomposition import DMD as DMD2\n"
   ]
  },
  {
   "cell_type": "code",
   "execution_count": 30,
   "metadata": {},
   "outputs": [],
   "source": [
    "x = np.linspace( -10, 10, 200)\n",
    "t = np.linspace(0, 4 * np.pi , 61)\n",
    "dt = t[1] - t[0]\n",
    "S, T = np.meshgrid(x, t)\n",
    "X1 = 0.8 * np.sin(S) * (1 + 0 * T)\n",
    "X2 = 1.0 / np.cosh(S + 3) * np.exp(2.3j * T)\n",
    "X_base = X1 + X2"
   ]
  },
  {
   "cell_type": "markdown",
   "metadata": {},
   "source": [
    "## PyDMD"
   ]
  },
  {
   "cell_type": "code",
   "execution_count": 31,
   "metadata": {},
   "outputs": [
    {
     "name": "stderr",
     "output_type": "stream",
     "text": [
      "c:\\Users\\Daniel\\miniconda3\\lib\\site-packages\\pydmd\\snapshots.py:72: UserWarning: Input data condition number 3.401194804380167e+17. Consider preprocessing data, passing in augmented data\n",
      "matrix, or regularization methods.\n",
      "  warnings.warn(\n"
     ]
    },
    {
     "data": {
      "text/plain": [
       "<pydmd.dmd.DMD at 0x1a2cfad3790>"
      ]
     },
     "execution_count": 31,
     "metadata": {},
     "output_type": "execute_result"
    }
   ],
   "source": [
    "dmd = DMD(svd_rank=2)\n",
    "dmd.fit(X_base.T)"
   ]
  },
  {
   "cell_type": "markdown",
   "metadata": {},
   "source": [
    "## Eu"
   ]
  },
  {
   "cell_type": "code",
   "execution_count": 32,
   "metadata": {},
   "outputs": [],
   "source": [
    "Xbt = X_base.T\n",
    "X = Xbt[:, :-1]\n",
    "Y = Xbt[:, 1:]"
   ]
  },
  {
   "cell_type": "code",
   "execution_count": 35,
   "metadata": {},
   "outputs": [],
   "source": [
    "rank = 2\n",
    "U, s, V = np.linalg.svd(X, full_matrices=False)\n",
    "V = V.conj().T\n",
    "U = U[:, :rank]\n",
    "V = V[:, :rank]\n",
    "s = s[:rank]"
   ]
  },
  {
   "cell_type": "code",
   "execution_count": 36,
   "metadata": {},
   "outputs": [],
   "source": [
    "atilde = np.linalg.multi_dot([U.T.conj(), Y, V]) * np.reciprocal(s)"
   ]
  },
  {
   "cell_type": "code",
   "execution_count": 37,
   "metadata": {},
   "outputs": [],
   "source": [
    "eigenvalues, eigenvectors = np.linalg.eig(atilde)"
   ]
  },
  {
   "cell_type": "code",
   "execution_count": null,
   "metadata": {},
   "outputs": [],
   "source": [
    "W = eigenvectors\n",
    "high_dimensional_eigenvectors = U.dot(W)\n",
    "high_dimensional_eigenvalues = eigenvalues\n",
    "modes = high_dimensional_eigenvectors\n",
    "Lambda = high_dimensional_eigenvalues"
   ]
  }
 ],
 "metadata": {
  "kernelspec": {
   "display_name": "base",
   "language": "python",
   "name": "python3"
  },
  "language_info": {
   "codemirror_mode": {
    "name": "ipython",
    "version": 3
   },
   "file_extension": ".py",
   "mimetype": "text/x-python",
   "name": "python",
   "nbconvert_exporter": "python",
   "pygments_lexer": "ipython3",
   "version": "3.10.10"
  },
  "orig_nbformat": 4
 },
 "nbformat": 4,
 "nbformat_minor": 2
}
