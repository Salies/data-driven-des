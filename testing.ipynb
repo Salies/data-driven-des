{
 "cells": [
  {
   "cell_type": "code",
   "execution_count": 5,
   "metadata": {},
   "outputs": [],
   "source": [
    "import numpy as np\n",
    "import scipy.integrate as integrate"
   ]
  },
  {
   "cell_type": "code",
   "execution_count": 6,
   "metadata": {},
   "outputs": [],
   "source": [
    "dt = 0.01; T = 8; t = np.arange(0,T+dt,dt)\n",
    "beta = 8/3; sigma = 10; rho = 28\n",
    "nn_input = np.zeros((100*(len(t)-1),3))\n",
    "nn_output = np.zeros_like(nn_input)\n",
    "\n",
    "def lorenz_deriv(x_y_z,t0,sigma=sigma,beta=beta,rho=rho):\n",
    "    x, y, z = x_y_z\n",
    "    return [sigma*(y-x), x*(rho-z)-y, x*y-beta*z]\n",
    "\n",
    "x0 = -15 + 30 * np.random.random((100, 3))\n",
    "\n",
    "x_t = np.asarray([integrate.odeint(lorenz_deriv, x0_j, t) for x0_j in x0])\n",
    "\n",
    "for j in range(100):\n",
    "    nn_input[j*(len(t)-1):(j+1)*(len(t)-1),:] = x_t[j,:-1,:]\n",
    "    nn_output[j*(len(t)-1):(j+1)*(len(t)-1),:] = x_t[j,1:,:]"
   ]
  },
  {
   "cell_type": "code",
   "execution_count": 7,
   "metadata": {},
   "outputs": [
    {
     "data": {
      "text/plain": [
       "array([[-12.71611419,   0.31919636, -12.84325699],\n",
       "       [-11.71770165,  -4.5984756 , -12.24588972],\n",
       "       [-11.25974396,  -9.07890313, -11.14844083],\n",
       "       ...,\n",
       "       [  4.5508475 ,   7.43289532,  14.81376215],\n",
       "       [  4.85112163,   7.97645866,  14.7813068 ],\n",
       "       [  5.17628571,   8.55601796,  14.8012709 ]])"
      ]
     },
     "execution_count": 7,
     "metadata": {},
     "output_type": "execute_result"
    }
   ],
   "source": [
    "nn_input"
   ]
  }
 ],
 "metadata": {
  "kernelspec": {
   "display_name": "base",
   "language": "python",
   "name": "python3"
  },
  "language_info": {
   "codemirror_mode": {
    "name": "ipython",
    "version": 3
   },
   "file_extension": ".py",
   "mimetype": "text/x-python",
   "name": "python",
   "nbconvert_exporter": "python",
   "pygments_lexer": "ipython3",
   "version": "3.10.10"
  },
  "orig_nbformat": 4
 },
 "nbformat": 4,
 "nbformat_minor": 2
}
