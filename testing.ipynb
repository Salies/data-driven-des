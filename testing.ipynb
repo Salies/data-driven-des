{
 "cells": [
  {
   "cell_type": "code",
   "execution_count": 2,
   "metadata": {},
   "outputs": [],
   "source": [
    "import numpy as np\n",
    "import scipy.integrate as integrate\n",
    "from tensorflow import keras\n",
    "from tensorflow.keras import layers"
   ]
  },
  {
   "cell_type": "code",
   "execution_count": 3,
   "metadata": {},
   "outputs": [],
   "source": [
    "dt = 0.01; T = 8; t = np.arange(0,T+dt,dt)\n",
    "beta = 8/3; sigma = 10; rho = 28\n",
    "nn_input = np.zeros((100 * (len(t) - 1), 3))\n",
    "nn_output = np.zeros_like(nn_input)\n",
    "\n",
    "def lorenz_deriv(x_y_z,t0,sigma=sigma,beta=beta,rho=rho):\n",
    "    x, y, z = x_y_z\n",
    "    return [sigma*(y-x), x*(rho-z)-y, x*y-beta*z]\n",
    "\n",
    "x0 = -15 + 30 * np.random.random((100, 3))\n",
    "\n",
    "x_t = np.asarray([integrate.odeint(lorenz_deriv, x0_j, t) for x0_j in x0])\n",
    "\n",
    "for j in range(100):\n",
    "    nn_input[j*(len(t)-1):(j+1)*(len(t)-1),:] = x_t[j,:-1,:]\n",
    "    nn_output[j*(len(t)-1):(j+1)*(len(t)-1),:] = x_t[j,1:,:]"
   ]
  },
  {
   "cell_type": "code",
   "execution_count": 4,
   "metadata": {},
   "outputs": [
    {
     "data": {
      "text/plain": [
       "(100, 3)"
      ]
     },
     "execution_count": 4,
     "metadata": {},
     "output_type": "execute_result"
    }
   ],
   "source": [
    "x0.shape"
   ]
  },
  {
   "cell_type": "code",
   "execution_count": null,
   "metadata": {},
   "outputs": [],
   "source": [
    "# TODO: comentar e entender tudo"
   ]
  },
  {
   "cell_type": "code",
   "execution_count": 5,
   "metadata": {},
   "outputs": [
    {
     "ename": "SyntaxError",
     "evalue": "invalid character '’' (U+2019) (4156837135.py, line 2)",
     "output_type": "error",
     "traceback": [
      "\u001b[1;36m  Cell \u001b[1;32mIn[5], line 2\u001b[1;36m\u001b[0m\n\u001b[1;33m    net.add(layers.Dense(10, input_dim=3, activation=’sigmoid’))\u001b[0m\n\u001b[1;37m                                                     ^\u001b[0m\n\u001b[1;31mSyntaxError\u001b[0m\u001b[1;31m:\u001b[0m invalid character '’' (U+2019)\n"
     ]
    }
   ],
   "source": [
    "net = keras.models.Sequential()\n",
    "net.add(layers.Dense(10, input_dim=3, activation='sigmoid'))\n",
    "net.add(layers.Dense(10, activation='relu'))"
   ]
  }
 ],
 "metadata": {
  "kernelspec": {
   "display_name": "base",
   "language": "python",
   "name": "python3"
  },
  "language_info": {
   "codemirror_mode": {
    "name": "ipython",
    "version": 3
   },
   "file_extension": ".py",
   "mimetype": "text/x-python",
   "name": "python",
   "nbconvert_exporter": "python",
   "pygments_lexer": "ipython3",
   "version": "3.10.9"
  },
  "orig_nbformat": 4
 },
 "nbformat": 4,
 "nbformat_minor": 2
}
